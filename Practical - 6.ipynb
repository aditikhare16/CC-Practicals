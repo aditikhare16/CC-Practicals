{
  "nbformat": 4,
  "nbformat_minor": 0,
  "metadata": {
    "colab": {
      "provenance": [],
      "authorship_tag": "ABX9TyOLzQSUoMnduqV3y3jryPTf",
      "include_colab_link": true
    },
    "kernelspec": {
      "name": "python3",
      "display_name": "Python 3"
    },
    "language_info": {
      "name": "python"
    }
  },
  "cells": [
    {
      "cell_type": "markdown",
      "metadata": {
        "id": "view-in-github",
        "colab_type": "text"
      },
      "source": [
        "<a href=\"https://colab.research.google.com/github/aditikhare16/CC-Practicals/blob/main/Practical%20-%206.ipynb\" target=\"_parent\"><img src=\"https://colab.research.google.com/assets/colab-badge.svg\" alt=\"Open In Colab\"/></a>"
      ]
    },
    {
      "cell_type": "code",
      "execution_count": 3,
      "metadata": {
        "id": "9vPdE--obBk4"
      },
      "outputs": [],
      "source": [
        "import tensorflow as tf\n",
        "import time\n",
        "from tensorflow.keras import datasets, layers, models\n",
        "import matplotlib.pyplot as plt\n",
        "import numpy as np\n"
      ]
    },
    {
      "cell_type": "code",
      "source": [
        "from tensorflow.keras import datasets\n",
        "\n",
        "# Load and normalize CIFAR-10 dataset\n",
        "(x_train, y_train), (x_test, y_test) = datasets.cifar10.load_data()\n",
        "x_train, x_test = x_train / 255.0, x_test / 255.0\n",
        "\n",
        "# Check the shape\n",
        "print(f'Training data shape: {x_train.shape}')\n",
        "print(f'Testing data shape: {x_test.shape}')\n",
        "\n"
      ],
      "metadata": {
        "colab": {
          "base_uri": "https://localhost:8080/"
        },
        "id": "fQdpZNFPbrka",
        "outputId": "d86a4c13-1cec-43af-ce83-56278a6ce8b5"
      },
      "execution_count": 5,
      "outputs": [
        {
          "output_type": "stream",
          "name": "stdout",
          "text": [
            "Downloading data from https://www.cs.toronto.edu/~kriz/cifar-10-python.tar.gz\n",
            "\u001b[1m170498071/170498071\u001b[0m \u001b[32m━━━━━━━━━━━━━━━━━━━━\u001b[0m\u001b[37m\u001b[0m \u001b[1m2s\u001b[0m 0us/step\n",
            "Training data shape: (50000, 32, 32, 3)\n",
            "Testing data shape: (10000, 32, 32, 3)\n"
          ]
        }
      ]
    },
    {
      "cell_type": "code",
      "source": [
        "from tensorflow.keras import layers, models\n",
        "\n",
        "def create_model():\n",
        "    model = models.Sequential([\n",
        "        layers.Conv2D(32, (3, 3), activation='relu', input_shape=(32, 32, 3)),\n",
        "        layers.MaxPooling2D((2, 2)),\n",
        "        layers.Conv2D(64, (3, 3), activation='relu'),\n",
        "        layers.MaxPooling2D((2, 2)),\n",
        "        layers.Flatten(),\n",
        "        layers.Dense(64, activation='relu'),\n",
        "        layers.Dense(10, activation='softmax')\n",
        "    ])\n",
        "    return model\n"
      ],
      "metadata": {
        "id": "lDePbKSvce7G"
      },
      "execution_count": 8,
      "outputs": []
    },
    {
      "cell_type": "code",
      "source": [
        "import time\n",
        "import tensorflow as tf\n",
        "\n",
        "def benchmark(device):\n",
        "    with tf.device(device):\n",
        "        model = create_model()\n",
        "        model.compile(\n",
        "            optimizer='adam',\n",
        "            loss='sparse_categorical_crossentropy',\n",
        "            metrics=['accuracy']\n",
        "        )\n",
        "\n",
        "        start_time = time.time()\n",
        "        history = model.fit(\n",
        "            x_train, y_train,\n",
        "            epochs=5,\n",
        "            batch_size=64,\n",
        "            verbose=2,\n",
        "            validation_data=(x_test, y_test)\n",
        "        )\n",
        "        end_time = time.time()\n",
        "\n",
        "        print(f\"\\nTraining on {device} took {end_time - start_time:.2f} seconds\")\n",
        "        return history\n"
      ],
      "metadata": {
        "id": "fII9OaQnc8JU"
      },
      "execution_count": 9,
      "outputs": []
    },
    {
      "cell_type": "code",
      "source": [
        "# Benchmark training on CPU\n",
        "history_cpu = benchmark('/CPU:0')\n"
      ],
      "metadata": {
        "colab": {
          "base_uri": "https://localhost:8080/"
        },
        "id": "8mSv6ZOkdRp4",
        "outputId": "95df41f1-0591-4dd8-febe-35ed5b8f8dfa"
      },
      "execution_count": 10,
      "outputs": [
        {
          "output_type": "stream",
          "name": "stderr",
          "text": [
            "/usr/local/lib/python3.11/dist-packages/keras/src/layers/convolutional/base_conv.py:107: UserWarning: Do not pass an `input_shape`/`input_dim` argument to a layer. When using Sequential models, prefer using an `Input(shape)` object as the first layer in the model instead.\n",
            "  super().__init__(activity_regularizer=activity_regularizer, **kwargs)\n"
          ]
        },
        {
          "output_type": "stream",
          "name": "stdout",
          "text": [
            "Epoch 1/5\n",
            "782/782 - 61s - 78ms/step - accuracy: 0.4602 - loss: 1.5047 - val_accuracy: 0.5396 - val_loss: 1.3315\n",
            "Epoch 2/5\n",
            "782/782 - 58s - 75ms/step - accuracy: 0.5941 - loss: 1.1580 - val_accuracy: 0.6211 - val_loss: 1.0913\n",
            "Epoch 3/5\n",
            "782/782 - 82s - 104ms/step - accuracy: 0.6437 - loss: 1.0230 - val_accuracy: 0.6303 - val_loss: 1.0593\n",
            "Epoch 4/5\n",
            "782/782 - 82s - 105ms/step - accuracy: 0.6716 - loss: 0.9463 - val_accuracy: 0.6607 - val_loss: 0.9608\n",
            "Epoch 5/5\n",
            "782/782 - 83s - 106ms/step - accuracy: 0.6907 - loss: 0.8913 - val_accuracy: 0.6755 - val_loss: 0.9454\n",
            "\n",
            "Training on /CPU:0 took 390.88 seconds\n"
          ]
        }
      ]
    },
    {
      "cell_type": "code",
      "source": [
        "# Set TensorFlow to use GPU for training\n",
        "history_gpu = benchmark('/GPU:0')\n"
      ],
      "metadata": {
        "colab": {
          "base_uri": "https://localhost:8080/"
        },
        "id": "wTAg4q4Xe0lI",
        "outputId": "2bfeef7e-57db-40c4-b5ce-f645d594d6c4"
      },
      "execution_count": 11,
      "outputs": [
        {
          "output_type": "stream",
          "name": "stdout",
          "text": [
            "Epoch 1/5\n",
            "782/782 - 61s - 78ms/step - accuracy: 0.4602 - loss: 1.5056 - val_accuracy: 0.5463 - val_loss: 1.2621\n",
            "Epoch 2/5\n",
            "782/782 - 58s - 74ms/step - accuracy: 0.5951 - loss: 1.1555 - val_accuracy: 0.6075 - val_loss: 1.1319\n",
            "Epoch 3/5\n",
            "782/782 - 81s - 104ms/step - accuracy: 0.6397 - loss: 1.0350 - val_accuracy: 0.6470 - val_loss: 1.0214\n",
            "Epoch 4/5\n",
            "782/782 - 80s - 103ms/step - accuracy: 0.6689 - loss: 0.9542 - val_accuracy: 0.6729 - val_loss: 0.9633\n",
            "Epoch 5/5\n",
            "782/782 - 58s - 75ms/step - accuracy: 0.6917 - loss: 0.8899 - val_accuracy: 0.6724 - val_loss: 0.9406\n",
            "\n",
            "Training on /GPU:0 took 365.00 seconds\n"
          ]
        }
      ]
    },
    {
      "cell_type": "code",
      "source": [
        "!pip install tensorflow --quiet"
      ],
      "metadata": {
        "id": "dV_1giMTgsQk"
      },
      "execution_count": 12,
      "outputs": []
    },
    {
      "cell_type": "code",
      "source": [
        "import tensorflow as tf\n",
        "print(\"TensorFlow version:\", tf.__version__)\n",
        "\n"
      ],
      "metadata": {
        "colab": {
          "base_uri": "https://localhost:8080/"
        },
        "id": "W13ao7QCgv1l",
        "outputId": "989be2b6-d61e-411b-c3d4-b1daa42f5bb2"
      },
      "execution_count": 14,
      "outputs": [
        {
          "output_type": "stream",
          "name": "stdout",
          "text": [
            "TensorFlow version: 2.18.0\n"
          ]
        }
      ]
    },
    {
      "cell_type": "code",
      "source": [
        "import tensorflow as tf\n",
        "import numpy as np\n",
        "import time\n",
        "from tensorflow.keras import layers, models, datasets\n",
        "import os\n",
        "\n",
        "# Detect and initialize the TPU\n",
        "try:\n",
        "    resolver = tf.distribute.cluster_resolver.TPUClusterResolver()  # Detect TPU\n",
        "    tf.config.experimental_connect_to_cluster(resolver)  # Connect to the cluster\n",
        "    tf.tpu.experimental.initialize_tpu_system(resolver)  # Initialize the TPU system\n",
        "\n",
        "    strategy = tf.distribute.TPUStrategy(resolver)  # Create a TPU strategy\n",
        "    print(\"TPU initialized successfully!\")\n",
        "except ValueError:\n",
        "    print(\"TPU not found. Please enable TPU in Runtime settings.\")\n",
        "\n",
        "# Check for the TPU address\n",
        "print(\"COLAB_TPU_ADDR:\", os.environ.get(\"COLAB_TPU_ADDR\"))\n"
      ],
      "metadata": {
        "colab": {
          "base_uri": "https://localhost:8080/"
        },
        "id": "vuvpjsaNhg4r",
        "outputId": "1efdeb98-02cf-4919-b409-f6d5bfe8a6bc"
      },
      "execution_count": 15,
      "outputs": [
        {
          "output_type": "stream",
          "name": "stdout",
          "text": [
            "TPU not found. Please enable TPU in Runtime settings.\n",
            "COLAB_TPU_ADDR: None\n"
          ]
        }
      ]
    }
  ]
}